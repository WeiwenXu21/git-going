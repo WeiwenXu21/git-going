{
 "cells": [
  {
   "cell_type": "markdown",
   "metadata": {
    "slideshow": {
     "slide_type": "slide"
    }
   },
   "source": [
    "# Git Going\n",
    "## An intermediate tutorial on git"
   ]
  },
  {
   "cell_type": "markdown",
   "metadata": {
    "slideshow": {
     "slide_type": "subslide"
    }
   },
   "source": [
    "### What this tutorial is\n",
    "- An introduction to the git data model.\n",
    "- An exposition of the core DAG operations.\n",
    "- An introduction to collaboration with git remotes.\n",
    "- A recommended workflow and other tips."
   ]
  },
  {
   "cell_type": "markdown",
   "metadata": {},
   "source": [
    "### What this tutorial isn't\n",
    "- A tutorial on the basics. You should be familiar with:\n",
    "    - `git init`\n",
    "    - `git add`\n",
    "    - `git commit`\n",
    "    - `git clone`\n",
    "    - `git checkout`"
   ]
  },
  {
   "cell_type": "markdown",
   "metadata": {
    "slideshow": {
     "slide_type": "slide"
    }
   },
   "source": [
    "## What is git?\n",
    "- A distributed version control system\\* (but you knew that).\n",
    "- A **directed acyclic graph** of commits and references.\n",
    "- A **commit** is a diff between its own state and the state of its parent(s).\n",
    "- A **reference** is a pointer to a commit.\n",
    "- Two main types of references: **branches** and **tags**.\n",
    "- References are mutable; commits are not.\n",
    "\n",
    "<small>\n",
    "\\*At its lowest level, git implements a *content addressable file system* capable of supporting arbitrary data structures and applications. Version control is the primary use case, but not the only one.\n",
    "</small>"
   ]
  },
  {
   "cell_type": "markdown",
   "metadata": {
    "slideshow": {
     "slide_type": "slide"
    }
   },
   "source": [
    "## In the beginning\n",
    "\n",
    "When a git repository is created:\n",
    "- there are no commits\n",
    "- there is a single reference, the master branch, which points to nothing."
   ]
  },
  {
   "cell_type": "code",
   "execution_count": 1,
   "metadata": {
    "slideshow": {
     "slide_type": "subslide"
    }
   },
   "outputs": [
    {
     "name": "stdout",
     "output_type": "stream",
     "text": [
      "Initialized empty Git repository in /Users/csb/Desktop/gitgoing/.git/\n"
     ]
    }
   ],
   "source": [
    "git init"
   ]
  },
  {
   "cell_type": "code",
   "execution_count": 2,
   "metadata": {},
   "outputs": [
    {
     "name": "stdout",
     "output_type": "stream",
     "text": [
      "fatal: your current branch 'master' does not have any commits yet\n"
     ]
    }
   ],
   "source": [
    "git log --oneline; true  # use `true` to swollow the non-zero exit"
   ]
  },
  {
   "cell_type": "markdown",
   "metadata": {
    "slideshow": {
     "slide_type": "skip"
    }
   },
   "source": [
    "![only master](images/00.0-master.svg)"
   ]
  },
  {
   "cell_type": "markdown",
   "metadata": {
    "slideshow": {
     "slide_type": "subslide"
    }
   },
   "source": [
    "Let's create an initial commit:"
   ]
  },
  {
   "cell_type": "code",
   "execution_count": 3,
   "metadata": {
    "slideshow": {
     "slide_type": "-"
    }
   },
   "outputs": [
    {
     "name": "stdout",
     "output_type": "stream",
     "text": [
      "[master (root-commit) 553dbb7] Initial commit\n",
      " 1 file changed, 1 insertion(+)\n",
      " create mode 100644 master.txt\n"
     ]
    }
   ],
   "source": [
    "echo '0. Initial commit' >> master.txt\n",
    "git add master.txt\n",
    "git commit -m 'Initial commit'"
   ]
  },
  {
   "cell_type": "code",
   "execution_count": 4,
   "metadata": {},
   "outputs": [
    {
     "name": "stdout",
     "output_type": "stream",
     "text": [
      "\u001b[33m553dbb7\u001b[m\u001b[33m (\u001b[m\u001b[1;36mHEAD -> \u001b[m\u001b[1;32mmaster\u001b[m\u001b[33m)\u001b[m Initial commit\n"
     ]
    }
   ],
   "source": [
    "git log --oneline"
   ]
  },
  {
   "cell_type": "markdown",
   "metadata": {},
   "source": [
    "![initial commit](images/00.1-init.svg)"
   ]
  },
  {
   "cell_type": "markdown",
   "metadata": {
    "slideshow": {
     "slide_type": "slide"
    }
   },
   "source": [
    "## Creating references with `git branch`\n",
    "\n",
    "The `branch` command creates a new branch pointing to the current commit.\n",
    "\n",
    "The `checkout -b` command creates a new branch and immediately checks it out."
   ]
  },
  {
   "cell_type": "code",
   "execution_count": 5,
   "metadata": {
    "slideshow": {
     "slide_type": "subslide"
    }
   },
   "outputs": [],
   "source": [
    "git branch foo"
   ]
  },
  {
   "cell_type": "code",
   "execution_count": 6,
   "metadata": {},
   "outputs": [
    {
     "name": "stdout",
     "output_type": "stream",
     "text": [
      "  foo   \u001b[m 553dbb7 Initial commit\n",
      "* \u001b[32mmaster\u001b[m 553dbb7 Initial commit\n"
     ]
    }
   ],
   "source": [
    "git branch -v"
   ]
  },
  {
   "cell_type": "markdown",
   "metadata": {},
   "source": [
    "![branch foo](images/01-foo.svg)"
   ]
  },
  {
   "cell_type": "code",
   "execution_count": 7,
   "metadata": {
    "slideshow": {
     "slide_type": "subslide"
    }
   },
   "outputs": [
    {
     "name": "stdout",
     "output_type": "stream",
     "text": [
      "Switched to a new branch 'bar'\n"
     ]
    }
   ],
   "source": [
    "git checkout -b bar"
   ]
  },
  {
   "cell_type": "code",
   "execution_count": 8,
   "metadata": {},
   "outputs": [
    {
     "name": "stdout",
     "output_type": "stream",
     "text": [
      "* \u001b[32mbar   \u001b[m 553dbb7 Initial commit\n",
      "  foo   \u001b[m 553dbb7 Initial commit\n",
      "  master\u001b[m 553dbb7 Initial commit\n"
     ]
    }
   ],
   "source": [
    "git branch -v"
   ]
  },
  {
   "cell_type": "markdown",
   "metadata": {},
   "source": [
    "![git checkout -b bar](images/02-bar.svg)"
   ]
  },
  {
   "cell_type": "markdown",
   "metadata": {
    "slideshow": {
     "slide_type": "slide"
    }
   },
   "source": [
    "## Moving branches with `git reset`\n",
    "\n",
    "The `reset` command moves the current branch to a different commit."
   ]
  },
  {
   "cell_type": "code",
   "execution_count": 9,
   "metadata": {
    "slideshow": {
     "slide_type": "subslide"
    }
   },
   "outputs": [
    {
     "name": "stdout",
     "output_type": "stream",
     "text": [
      "[bar ac05751] Make commit on branch bar\n",
      " 1 file changed, 1 insertion(+)\n",
      " create mode 100644 bar.txt\n"
     ]
    }
   ],
   "source": [
    "echo '1. commit on branch bar' >> bar.txt\n",
    "git add bar.txt\n",
    "git commit -am 'Make commit on branch bar'"
   ]
  },
  {
   "cell_type": "code",
   "execution_count": 10,
   "metadata": {},
   "outputs": [
    {
     "name": "stdout",
     "output_type": "stream",
     "text": [
      "\u001b[33mac05751\u001b[m\u001b[33m (\u001b[m\u001b[1;36mHEAD -> \u001b[m\u001b[1;32mbar\u001b[m\u001b[33m)\u001b[m Make commit on branch bar\n",
      "\u001b[33m553dbb7\u001b[m\u001b[33m (\u001b[m\u001b[1;32mmaster\u001b[m\u001b[33m, \u001b[m\u001b[1;32mfoo\u001b[m\u001b[33m)\u001b[m Initial commit\n"
     ]
    }
   ],
   "source": [
    "git log --oneline"
   ]
  },
  {
   "cell_type": "markdown",
   "metadata": {
    "slideshow": {
     "slide_type": "subslide"
    }
   },
   "source": [
    "![git commit on bar](images/04-commit-on-bar.svg)"
   ]
  },
  {
   "cell_type": "code",
   "execution_count": 11,
   "metadata": {
    "slideshow": {
     "slide_type": "subslide"
    }
   },
   "outputs": [
    {
     "name": "stdout",
     "output_type": "stream",
     "text": [
      "[bar e5ceb5e] Make commit on branch bar, again\n",
      " 1 file changed, 1 insertion(+)\n"
     ]
    }
   ],
   "source": [
    "echo '2. commit on branch bar, again' >> bar.txt\n",
    "git commit -am 'Make commit on branch bar, again'"
   ]
  },
  {
   "cell_type": "code",
   "execution_count": 12,
   "metadata": {},
   "outputs": [
    {
     "name": "stdout",
     "output_type": "stream",
     "text": [
      "\u001b[33me5ceb5e\u001b[m\u001b[33m (\u001b[m\u001b[1;36mHEAD -> \u001b[m\u001b[1;32mbar\u001b[m\u001b[33m)\u001b[m Make commit on branch bar, again\n",
      "\u001b[33mac05751\u001b[m Make commit on branch bar\n",
      "\u001b[33m553dbb7\u001b[m\u001b[33m (\u001b[m\u001b[1;32mmaster\u001b[m\u001b[33m, \u001b[m\u001b[1;32mfoo\u001b[m\u001b[33m)\u001b[m Initial commit\n"
     ]
    }
   ],
   "source": [
    "git log --oneline"
   ]
  },
  {
   "cell_type": "markdown",
   "metadata": {
    "slideshow": {
     "slide_type": "subslide"
    }
   },
   "source": [
    "![git commit on bar again](images/05-commit-on-bar-again.svg)"
   ]
  },
  {
   "cell_type": "code",
   "execution_count": 13,
   "metadata": {
    "slideshow": {
     "slide_type": "subslide"
    }
   },
   "outputs": [
    {
     "name": "stdout",
     "output_type": "stream",
     "text": [
      "HEAD is now at ac05751 Make commit on branch bar\n"
     ]
    }
   ],
   "source": [
    "git reset --hard HEAD~1"
   ]
  },
  {
   "cell_type": "code",
   "execution_count": 14,
   "metadata": {},
   "outputs": [
    {
     "name": "stdout",
     "output_type": "stream",
     "text": [
      "\u001b[33mac05751\u001b[m\u001b[33m (\u001b[m\u001b[1;36mHEAD -> \u001b[m\u001b[1;32mbar\u001b[m\u001b[33m)\u001b[m Make commit on branch bar\n",
      "\u001b[33m553dbb7\u001b[m\u001b[33m (\u001b[m\u001b[1;32mmaster\u001b[m\u001b[33m, \u001b[m\u001b[1;32mfoo\u001b[m\u001b[33m)\u001b[m Initial commit\n"
     ]
    }
   ],
   "source": [
    "git log --oneline"
   ]
  },
  {
   "cell_type": "markdown",
   "metadata": {},
   "source": [
    "`HEAD` is a special reference that always points to the current commit. The syntax `REF~1` means \"the parent of `REF`."
   ]
  },
  {
   "cell_type": "markdown",
   "metadata": {
    "slideshow": {
     "slide_type": "subslide"
    }
   },
   "source": [
    "![git reset](images/06-reset.svg)"
   ]
  },
  {
   "cell_type": "markdown",
   "metadata": {},
   "source": [
    "You may have noticed that `cff7ce4` is unreachable from any branch. It's _garbage_. In fact, git has a garbage collector! However, the garbage collector is not automatic, since you can reach any commit directly via its hash. It's generally not useful to delete commits, but if you're low on storage, checkout the `git gc` command."
   ]
  },
  {
   "cell_type": "markdown",
   "metadata": {
    "slideshow": {
     "slide_type": "slide"
    }
   },
   "source": [
    "## Commit with multiple parents using `git merge`\n",
    "\n",
    "The `merge` command creates commits with two or more parents. merge commits contain a diff for all parents to the new combined state."
   ]
  },
  {
   "cell_type": "code",
   "execution_count": 15,
   "metadata": {
    "slideshow": {
     "slide_type": "subslide"
    }
   },
   "outputs": [
    {
     "name": "stdout",
     "output_type": "stream",
     "text": [
      "Switched to branch 'foo'\n",
      "[foo b43daa9] Make commit on branch foo\n",
      " 1 file changed, 1 insertion(+)\n",
      " create mode 100644 foo.txt\n"
     ]
    }
   ],
   "source": [
    "git checkout foo\n",
    "echo '3. commit on branch foo' >> foo.txt\n",
    "git add foo.txt\n",
    "git commit -am 'Make commit on branch foo'"
   ]
  },
  {
   "cell_type": "code",
   "execution_count": 16,
   "metadata": {},
   "outputs": [
    {
     "name": "stdout",
     "output_type": "stream",
     "text": [
      "\u001b[33mb43daa9\u001b[m\u001b[33m (\u001b[m\u001b[1;36mHEAD -> \u001b[m\u001b[1;32mfoo\u001b[m\u001b[33m)\u001b[m Make commit on branch foo\n",
      "\u001b[33m553dbb7\u001b[m\u001b[33m (\u001b[m\u001b[1;32mmaster\u001b[m\u001b[33m)\u001b[m Initial commit\n"
     ]
    }
   ],
   "source": [
    "git log --oneline"
   ]
  },
  {
   "cell_type": "markdown",
   "metadata": {
    "slideshow": {
     "slide_type": "subslide"
    }
   },
   "source": [
    "![commit on foo](images/07-commit-foo.svg)"
   ]
  },
  {
   "cell_type": "code",
   "execution_count": 17,
   "metadata": {
    "slideshow": {
     "slide_type": "subslide"
    }
   },
   "outputs": [
    {
     "name": "stdout",
     "output_type": "stream",
     "text": [
      "Merge made by the 'recursive' strategy.\n",
      " bar.txt | 1 \u001b[32m+\u001b[m\n",
      " 1 file changed, 1 insertion(+)\n",
      " create mode 100644 bar.txt\n"
     ]
    }
   ],
   "source": [
    "git merge bar -m \"Merge branch 'bar' into 'foo'\""
   ]
  },
  {
   "cell_type": "code",
   "execution_count": 18,
   "metadata": {},
   "outputs": [
    {
     "name": "stdout",
     "output_type": "stream",
     "text": [
      "\u001b[33m93ba65d\u001b[m\u001b[33m (\u001b[m\u001b[1;36mHEAD -> \u001b[m\u001b[1;32mfoo\u001b[m\u001b[33m)\u001b[m Merge branch 'bar' into 'foo'\n",
      "\u001b[33mb43daa9\u001b[m Make commit on branch foo\n",
      "\u001b[33mac05751\u001b[m\u001b[33m (\u001b[m\u001b[1;32mbar\u001b[m\u001b[33m)\u001b[m Make commit on branch bar\n",
      "\u001b[33m553dbb7\u001b[m\u001b[33m (\u001b[m\u001b[1;32mmaster\u001b[m\u001b[33m)\u001b[m Initial commit\n"
     ]
    }
   ],
   "source": [
    "git log --oneline"
   ]
  },
  {
   "cell_type": "markdown",
   "metadata": {
    "slideshow": {
     "slide_type": "subslide"
    }
   },
   "source": [
    "![merge bar into foo](images/08-merge-bar-into-foo.svg)"
   ]
  },
  {
   "cell_type": "markdown",
   "metadata": {
    "slideshow": {
     "slide_type": "slide"
    }
   },
   "source": [
    "## Moving commits with `git rebase`\n",
    "\n",
    "The `rebase` command simulates the moving of commits.\n",
    "\n",
    "To rebase `foo` onto `master` means to take all commits between `foo` and the neares common ancestor with `master` and move them on top of master.\n",
    "\n",
    "Commits are immutable, so we can't move them per se. Instead, we make copies. And while we're at it, we linearize the history."
   ]
  },
  {
   "cell_type": "code",
   "execution_count": 19,
   "metadata": {
    "slideshow": {
     "slide_type": "subslide"
    }
   },
   "outputs": [
    {
     "name": "stdout",
     "output_type": "stream",
     "text": [
      "Switched to branch 'master'\n",
      "[master 12844aa] Make commit on branch master\n",
      " 1 file changed, 1 insertion(+)\n"
     ]
    }
   ],
   "source": [
    "git checkout master\n",
    "echo '4. commit on branch master' >> master.txt\n",
    "git commit -am 'Make commit on branch master'"
   ]
  },
  {
   "cell_type": "code",
   "execution_count": 20,
   "metadata": {},
   "outputs": [
    {
     "name": "stdout",
     "output_type": "stream",
     "text": [
      "\u001b[33m12844aa\u001b[m\u001b[33m (\u001b[m\u001b[1;36mHEAD -> \u001b[m\u001b[1;32mmaster\u001b[m\u001b[33m)\u001b[m Make commit on branch master\n",
      "\u001b[33m553dbb7\u001b[m Initial commit\n"
     ]
    }
   ],
   "source": [
    "git log --oneline"
   ]
  },
  {
   "cell_type": "markdown",
   "metadata": {
    "slideshow": {
     "slide_type": "subslide"
    }
   },
   "source": [
    "![commit on master](images/09-commit-on-master.svg)"
   ]
  },
  {
   "cell_type": "code",
   "execution_count": 21,
   "metadata": {
    "slideshow": {
     "slide_type": "subslide"
    }
   },
   "outputs": [
    {
     "name": "stdout",
     "output_type": "stream",
     "text": [
      "Switched to branch 'foo'\n",
      "First, rewinding head to replay your work on top of it...\n",
      "Applying: Make commit on branch bar\n",
      "Applying: Make commit on branch foo\n"
     ]
    }
   ],
   "source": [
    "git checkout foo\n",
    "git rebase master"
   ]
  },
  {
   "cell_type": "code",
   "execution_count": 22,
   "metadata": {},
   "outputs": [
    {
     "name": "stdout",
     "output_type": "stream",
     "text": [
      "\u001b[33m0e9470e\u001b[m\u001b[33m (\u001b[m\u001b[1;36mHEAD -> \u001b[m\u001b[1;32mfoo\u001b[m\u001b[33m)\u001b[m Make commit on branch foo\n",
      "\u001b[33me33d14f\u001b[m Make commit on branch bar\n",
      "\u001b[33m12844aa\u001b[m\u001b[33m (\u001b[m\u001b[1;32mmaster\u001b[m\u001b[33m)\u001b[m Make commit on branch master\n",
      "\u001b[33m553dbb7\u001b[m Initial commit\n"
     ]
    }
   ],
   "source": [
    "git log --oneline"
   ]
  },
  {
   "cell_type": "markdown",
   "metadata": {
    "slideshow": {
     "slide_type": "subslide"
    }
   },
   "source": [
    "<img alt='rebase foo on master' src='images/10-rebase-foo-on-master.svg' width=50% />"
   ]
  },
  {
   "cell_type": "markdown",
   "metadata": {
    "slideshow": {
     "slide_type": "subslide"
    }
   },
   "source": [
    "Let's sync `master` with `foo` before continuing. This is called a \"fast-forward\" merge."
   ]
  },
  {
   "cell_type": "code",
   "execution_count": 23,
   "metadata": {
    "slideshow": {
     "slide_type": "-"
    }
   },
   "outputs": [
    {
     "name": "stdout",
     "output_type": "stream",
     "text": [
      "Switched to branch 'master'\n",
      "Updating 12844aa..0e9470e\n",
      "Fast-forward\n",
      " bar.txt | 1 \u001b[32m+\u001b[m\n",
      " foo.txt | 1 \u001b[32m+\u001b[m\n",
      " 2 files changed, 2 insertions(+)\n",
      " create mode 100644 bar.txt\n",
      " create mode 100644 foo.txt\n"
     ]
    }
   ],
   "source": [
    "git checkout master\n",
    "git merge foo"
   ]
  },
  {
   "cell_type": "code",
   "execution_count": 24,
   "metadata": {},
   "outputs": [
    {
     "name": "stdout",
     "output_type": "stream",
     "text": [
      "\u001b[33m0e9470e\u001b[m\u001b[33m (\u001b[m\u001b[1;36mHEAD -> \u001b[m\u001b[1;32mmaster\u001b[m\u001b[33m, \u001b[m\u001b[1;32mfoo\u001b[m\u001b[33m)\u001b[m Make commit on branch foo\n",
      "\u001b[33me33d14f\u001b[m Make commit on branch bar\n",
      "\u001b[33m12844aa\u001b[m Make commit on branch master\n",
      "\u001b[33m553dbb7\u001b[m Initial commit\n"
     ]
    }
   ],
   "source": [
    "git log --oneline"
   ]
  },
  {
   "cell_type": "markdown",
   "metadata": {
    "slideshow": {
     "slide_type": "subslide"
    }
   },
   "source": [
    "![catch up](images/11-catch-up.svg)"
   ]
  },
  {
   "cell_type": "markdown",
   "metadata": {
    "slideshow": {
     "slide_type": "slide"
    }
   },
   "source": [
    "## The Swiss Army knife: `git rebase --interactive`\n",
    "\n",
    "Git gives you a ton of flexibility during a rebase. You can reorder commits, squash multiple commits into each other, and even run arbitrary commands. The interactive rebase gives you an opportunity to set the agenda before performing a rebase.\n",
    "\n",
    "This is the single most useful command in git."
   ]
  },
  {
   "cell_type": "code",
   "execution_count": 25,
   "metadata": {
    "slideshow": {
     "slide_type": "subslide"
    }
   },
   "outputs": [
    {
     "name": "stdout",
     "output_type": "stream",
     "text": [
      "[master 9ee57f3] Fixup commit\n",
      " 1 file changed, 1 insertion(+)\n",
      " create mode 100644 interactive.txt\n",
      "[master ecf548a] Fixup commit\n",
      " 1 file changed, 1 insertion(+)\n",
      "[master c0432ad] Fixup commit\n",
      " 1 file changed, 1 insertion(+)\n"
     ]
    }
   ],
   "source": [
    "touch interactive.txt\n",
    "git add interactive.txt\n",
    "\n",
    "echo \"1. fixup commits\" >> interactive.txt\n",
    "git commit interactive.txt -m 'Fixup commit'\n",
    "\n",
    "echo \"2. fixup commits\" >> interactive.txt\n",
    "git commit interactive.txt -m 'Fixup commit'\n",
    "\n",
    "echo \"3. fixup commits\" >> interactive.txt\n",
    "git commit interactive.txt -m 'Fixup commit'"
   ]
  },
  {
   "cell_type": "code",
   "execution_count": 26,
   "metadata": {},
   "outputs": [
    {
     "name": "stdout",
     "output_type": "stream",
     "text": [
      "\u001b[33mc0432ad\u001b[m\u001b[33m (\u001b[m\u001b[1;36mHEAD -> \u001b[m\u001b[1;32mmaster\u001b[m\u001b[33m)\u001b[m Fixup commit\n",
      "\u001b[33mecf548a\u001b[m Fixup commit\n",
      "\u001b[33m9ee57f3\u001b[m Fixup commit\n",
      "\u001b[33m0e9470e\u001b[m\u001b[33m (\u001b[m\u001b[1;32mfoo\u001b[m\u001b[33m)\u001b[m Make commit on branch foo\n",
      "\u001b[33me33d14f\u001b[m Make commit on branch bar\n",
      "\u001b[33m12844aa\u001b[m Make commit on branch master\n",
      "\u001b[33m553dbb7\u001b[m Initial commit\n"
     ]
    }
   ],
   "source": [
    "git log --oneline"
   ]
  },
  {
   "cell_type": "markdown",
   "metadata": {
    "slideshow": {
     "slide_type": "subslide"
    }
   },
   "source": [
    "![setup interactive rebase](images/12.0-interactive.svg)"
   ]
  },
  {
   "cell_type": "code",
   "execution_count": 27,
   "metadata": {
    "slideshow": {
     "slide_type": "subslide"
    }
   },
   "outputs": [
    {
     "name": "stdout",
     "output_type": "stream",
     "text": [
      "Successfully rebased and updated refs/heads/master.\n"
     ]
    }
   ],
   "source": [
    "git rebase -i foo"
   ]
  },
  {
   "cell_type": "markdown",
   "metadata": {
    "slideshow": {
     "slide_type": "subslide"
    }
   },
   "source": [
    "![interactive rebase](images/12.1-interactive.png)"
   ]
  },
  {
   "cell_type": "markdown",
   "metadata": {
    "slideshow": {
     "slide_type": "subslide"
    }
   },
   "source": [
    "![interactive rebase](images/12.2-interactive.png)"
   ]
  },
  {
   "cell_type": "code",
   "execution_count": 28,
   "metadata": {
    "slideshow": {
     "slide_type": "subslide"
    }
   },
   "outputs": [
    {
     "name": "stdout",
     "output_type": "stream",
     "text": [
      "\u001b[33m94cc657\u001b[m\u001b[33m (\u001b[m\u001b[1;36mHEAD -> \u001b[m\u001b[1;32mmaster\u001b[m\u001b[33m)\u001b[m Fixup commit\n",
      "\u001b[33m0e9470e\u001b[m\u001b[33m (\u001b[m\u001b[1;32mfoo\u001b[m\u001b[33m)\u001b[m Make commit on branch foo\n",
      "\u001b[33me33d14f\u001b[m Make commit on branch bar\n",
      "\u001b[33m12844aa\u001b[m Make commit on branch master\n",
      "\u001b[33m553dbb7\u001b[m Initial commit\n"
     ]
    }
   ],
   "source": [
    "git log --oneline"
   ]
  },
  {
   "cell_type": "markdown",
   "metadata": {
    "slideshow": {
     "slide_type": "subslide"
    }
   },
   "source": [
    "![interactive rebase](images/12.3-interactive.svg)"
   ]
  },
  {
   "cell_type": "markdown",
   "metadata": {
    "slideshow": {
     "slide_type": "subslide"
    }
   },
   "source": [
    "### Autosquash\n",
    "\n",
    "When creating a commit, you can queue actions to be performed in a future rebase by using specially crafted commit messages. The `git commit --fixup` command is useful for creating these messages. The command `git rebase -i --autosquash` tells git to read through the commit messages and automatically set the agenda without manual intervention."
   ]
  },
  {
   "cell_type": "code",
   "execution_count": 29,
   "metadata": {
    "slideshow": {
     "slide_type": "subslide"
    }
   },
   "outputs": [
    {
     "name": "stdout",
     "output_type": "stream",
     "text": [
      "[master 60b357b] fixup! Fixup commit\n",
      " 1 file changed, 1 insertion(+)\n",
      "[master 5223ae5] fixup! Fixup commit\n",
      " 1 file changed, 1 insertion(+)\n"
     ]
    }
   ],
   "source": [
    "echo \"4. fixup commits\" >> interactive.txt\n",
    "git commit interactive.txt --fixup HEAD\n",
    "\n",
    "echo \"5. fixup commits\" >> interactive.txt\n",
    "git commit interactive.txt --fixup HEAD~1"
   ]
  },
  {
   "cell_type": "code",
   "execution_count": 30,
   "metadata": {},
   "outputs": [
    {
     "name": "stdout",
     "output_type": "stream",
     "text": [
      "\u001b[33m5223ae5\u001b[m\u001b[33m (\u001b[m\u001b[1;36mHEAD -> \u001b[m\u001b[1;32mmaster\u001b[m\u001b[33m)\u001b[m fixup! Fixup commit\n",
      "\u001b[33m60b357b\u001b[m fixup! Fixup commit\n",
      "\u001b[33m94cc657\u001b[m Fixup commit\n",
      "\u001b[33m0e9470e\u001b[m\u001b[33m (\u001b[m\u001b[1;32mfoo\u001b[m\u001b[33m)\u001b[m Make commit on branch foo\n",
      "\u001b[33me33d14f\u001b[m Make commit on branch bar\n",
      "\u001b[33m12844aa\u001b[m Make commit on branch master\n",
      "\u001b[33m553dbb7\u001b[m Initial commit\n"
     ]
    }
   ],
   "source": [
    "git log --oneline"
   ]
  },
  {
   "cell_type": "markdown",
   "metadata": {
    "slideshow": {
     "slide_type": "subslide"
    }
   },
   "source": [
    "![autosquash setup](images/13.0-autosquash-setup.svg)"
   ]
  },
  {
   "cell_type": "code",
   "execution_count": 31,
   "metadata": {
    "slideshow": {
     "slide_type": "subslide"
    }
   },
   "outputs": [
    {
     "name": "stdout",
     "output_type": "stream",
     "text": [
      "Successfully rebased and updated refs/heads/master.\n"
     ]
    }
   ],
   "source": [
    "git rebase -i --autosquash foo"
   ]
  },
  {
   "cell_type": "markdown",
   "metadata": {},
   "source": [
    "![autosquash](images/13.1-autosquash.png)"
   ]
  },
  {
   "cell_type": "code",
   "execution_count": 32,
   "metadata": {
    "slideshow": {
     "slide_type": "subslide"
    }
   },
   "outputs": [
    {
     "name": "stdout",
     "output_type": "stream",
     "text": [
      "\u001b[33m9560b6a\u001b[m\u001b[33m (\u001b[m\u001b[1;36mHEAD -> \u001b[m\u001b[1;32mmaster\u001b[m\u001b[33m)\u001b[m Fixup commit\n",
      "\u001b[33m0e9470e\u001b[m\u001b[33m (\u001b[m\u001b[1;32mfoo\u001b[m\u001b[33m)\u001b[m Make commit on branch foo\n",
      "\u001b[33me33d14f\u001b[m Make commit on branch bar\n",
      "\u001b[33m12844aa\u001b[m Make commit on branch master\n",
      "\u001b[33m553dbb7\u001b[m Initial commit\n"
     ]
    }
   ],
   "source": [
    "git log --oneline"
   ]
  },
  {
   "cell_type": "markdown",
   "metadata": {
    "slideshow": {
     "slide_type": "subslide"
    }
   },
   "source": [
    "![autosquash setup](images/13.2-autosquash.svg)"
   ]
  },
  {
   "cell_type": "markdown",
   "metadata": {
    "slideshow": {
     "slide_type": "slide"
    }
   },
   "source": [
    "## Other useful commands\n",
    "\n",
    "- `revert` creates a new commit which undoes a previous commit.\n",
    "\n",
    "- `cherry-pick` copies individual commits.\n",
    "\n",
    "- `bisect` performs a binary search, using an arbitrary command as the criteria.\n",
    "    - Useful to find which commit intorduced a bug."
   ]
  },
  {
   "cell_type": "markdown",
   "metadata": {
    "slideshow": {
     "slide_type": "slide"
    }
   },
   "source": [
    "## Aside: GitHub goodies with the `hub` command\n",
    "\n",
    "To demonstrate git remotes, we first need to create a remote repository.\n",
    "\n",
    "The `hub` command extends `git` with bindings to the GitHub API."
   ]
  },
  {
   "cell_type": "markdown",
   "metadata": {
    "slideshow": {
     "slide_type": "subslide"
    }
   },
   "source": [
    "Install from your OS package manager. For me, that's brew:\n",
    "\n",
    "```bash\n",
    "brew install hub\n",
    "```\n",
    "\n",
    "Activate hub using a shell alias:"
   ]
  },
  {
   "cell_type": "code",
   "execution_count": 33,
   "metadata": {
    "slideshow": {
     "slide_type": "-"
    }
   },
   "outputs": [
    {
     "name": "stdout",
     "output_type": "stream",
     "text": [
      "git version 2.16.2\n",
      "hub version 2.2.9\n"
     ]
    }
   ],
   "source": [
    "alias git=hub\n",
    "git --version"
   ]
  },
  {
   "cell_type": "code",
   "execution_count": 34,
   "metadata": {
    "slideshow": {
     "slide_type": "subslide"
    }
   },
   "outputs": [
    {
     "name": "stdout",
     "output_type": "stream",
     "text": [
      "HUB(1)                            Hub Manual                            HUB(1)\n",
      "\n",
      "\n",
      "\n",
      "NAME\n",
      "       hub - git + hub = github\n",
      "\n",
      "SYNOPSIS\n",
      "       hub [--noop] COMMAND OPTIONS\n",
      "       hub alias [-s] [SHELL]\n",
      "\n",
      "   Expanded git commands:\n",
      "       git init -g OPTIONS\n",
      "       git clone [-p] OPTIONS [USER/]REPOSITORY DIRECTORY\n",
      "       git remote add [-p] OPTIONS USER[/REPOSITORY]\n",
      "       git remote set-url [-p] OPTIONS REMOTE-NAME USER[/REPOSITORY]\n",
      "       git fetch USER-1,[USER-2,...]\n",
      "       git checkout PULLREQ-URL [BRANCH]\n",
      "       git merge PULLREQ-URL\n",
      "       git cherry-pick GITHUB-REF\n",
      "       git am GITHUB-URL\n",
      "       git apply GITHUB-URL\n",
      "       git push REMOTE-1,REMOTE-2,...,REMOTE-N [REF]\n",
      "       git submodule add [-p] OPTIONS [USER/]REPOSITORY DIRECTORY\n",
      "\n",
      "   Custom git commands:\n",
      "       git create [NAME] [-p] [-d DESCRIPTION] [-h HOMEPAGE]\n",
      "       git browse [-u] [[USER/]REPOSITORY] [SUBPAGE]\n",
      "       git compare [-u] [USER] [[START...]END]\n",
      "       git fork [--no-remote]\n",
      "       git    pull-request   [-o|--browse]   [-f]   [-m   MESSAGE|-F   FILE|-i\n",
      "       ISSUE|ISSUE-URL] [-b BASE] [-h HEAD]\n",
      "       git ci-status [-v] [COMMIT]\n",
      "\n"
     ]
    }
   ],
   "source": [
    "git help hub | head -n34"
   ]
  },
  {
   "cell_type": "markdown",
   "metadata": {
    "slideshow": {
     "slide_type": "slide"
    }
   },
   "source": [
    "## Publishing to GitHub\n",
    "\n",
    "The `remote` command is used to tell our local repo about another repo with which we can share commits.\n",
    "\n",
    "The `create` command (provided by `hub`) creates a remote repo for us on GitHub.\n",
    "\n",
    "First, lets create a repo on GitHub to host our commits. Then let's tell our local repo about the upstream repo in the dsp-uga organization."
   ]
  },
  {
   "cell_type": "code",
   "execution_count": 35,
   "metadata": {
    "slideshow": {
     "slide_type": "subslide"
    }
   },
   "outputs": [
    {
     "name": "stdout",
     "output_type": "stream",
     "text": [
      "Updating origin\n",
      "created repository: cbarrick/git-going\n"
     ]
    }
   ],
   "source": [
    "git create git-going -p"
   ]
  },
  {
   "cell_type": "code",
   "execution_count": 36,
   "metadata": {
    "slideshow": {
     "slide_type": "subslide"
    }
   },
   "outputs": [],
   "source": [
    "git remote add -p dsp-uga/git-going"
   ]
  },
  {
   "cell_type": "code",
   "execution_count": 37,
   "metadata": {
    "slideshow": {
     "slide_type": "subslide"
    }
   },
   "outputs": [
    {
     "name": "stdout",
     "output_type": "stream",
     "text": [
      "dsp-uga\tgit@github.com:dsp-uga/git-going.git (fetch)\n",
      "dsp-uga\tgit@github.com:dsp-uga/git-going.git (push)\n",
      "origin\tgit@github.com:cbarrick/git-going.git (fetch)\n",
      "origin\tgit@github.com:cbarrick/git-going.git (push)\n"
     ]
    }
   ],
   "source": [
    "git remote -v"
   ]
  },
  {
   "cell_type": "code",
   "execution_count": 38,
   "metadata": {
    "slideshow": {
     "slide_type": "subslide"
    }
   },
   "outputs": [
    {
     "name": "stdout",
     "output_type": "stream",
     "text": [
      "Counting objects: 15, done.\n",
      "Delta compression using up to 4 threads.\n",
      "Compressing objects: 100% (9/9), done.\n",
      "Writing objects: 100% (15/15), 1.24 KiB | 633.00 KiB/s, done.\n",
      "Total 15 (delta 2), reused 0 (delta 0)\n",
      "remote: Resolving deltas: 100% (2/2), done.\u001b[K\n",
      "To github.com:cbarrick/git-going.git\n",
      " * [new branch]      master -> master\n"
     ]
    }
   ],
   "source": [
    "git push origin master"
   ]
  },
  {
   "cell_type": "code",
   "execution_count": 39,
   "metadata": {},
   "outputs": [
    {
     "name": "stdout",
     "output_type": "stream",
     "text": [
      "Counting objects: 15, done.\n",
      "Delta compression using up to 4 threads.\n",
      "Compressing objects: 100% (9/9), done.\n",
      "Writing objects: 100% (15/15), 1.24 KiB | 105.00 KiB/s, done.\n",
      "Total 15 (delta 2), reused 0 (delta 0)\n",
      "remote: Resolving deltas: 100% (2/2), done.\u001b[K\n",
      "To github.com:dsp-uga/git-going.git\n",
      " + fe24ed9...9560b6a master -> master (forced update)\n"
     ]
    }
   ],
   "source": [
    "git push dsp-uga master -f"
   ]
  },
  {
   "cell_type": "markdown",
   "metadata": {
    "slideshow": {
     "slide_type": "subslide"
    }
   },
   "source": [
    "### Useful remote commands\n",
    "- `git fetch` downloads commits from a remote repo.\n",
    "- `git push` uploads commits to a remote repo.\n",
    "- `git pull` is essentially a fetch followed by a merge.\n",
    "\n",
    "### Tips\n",
    "- The command `git push -u SOMEREMOTE` lets you set a default remote for a branch so that you don't always have to specify."
   ]
  },
  {
   "cell_type": "markdown",
   "metadata": {
    "slideshow": {
     "slide_type": "slide"
    }
   },
   "source": [
    "## The GitHub flow\n",
    "\n",
    "Git is turbo flexible for a ton of different workflows, but GitHub reccomends one particular workflow.\n",
    "\n",
    "1. Every developer has her own fork of the repository.\n",
    "    - The group may have an organization to host the cannonical repo, or pick a developer's fork to be cannonical.\n",
    "2. Master on the cannonical repo is sacred.\n",
    "    - NEVER rewrite history, e.g. `reset` or `rebase`.\n",
    "3. For each new feature, create a branch.\n",
    "4. Make some commits.\n",
    "5. Open a pull request.\n",
    "6. Discuss the changes.\n",
    "7. Test.\n",
    "8. Merge.\n",
    "\n",
    "https://guides.github.com/introduction/flow/"
   ]
  },
  {
   "cell_type": "markdown",
   "metadata": {
    "slideshow": {
     "slide_type": "subslide"
    }
   },
   "source": [
    "### Protips\n",
    "- Add remotes for all of your team members.\n",
    "    - This makes is easy to checkout, review, and test before the merge.\n",
    "    - Typically `origin` should refer to your own fork, the others should be named after the owner.\n",
    "- Rebase your branch on master frequently.\n",
    "    - This ensures that your code is compatible with the latest work.\n",
    "- Never merge broken code.\n",
    "    - When you push to a branch, the corresponding PR is updated."
   ]
  },
  {
   "cell_type": "markdown",
   "metadata": {
    "slideshow": {
     "slide_type": "slide"
    }
   },
   "source": [
    "## End\n",
    "\n",
    "Thanks for coming out!"
   ]
  },
  {
   "cell_type": "markdown",
   "metadata": {
    "slideshow": {
     "slide_type": "slide"
    }
   },
   "source": [
    "## Cleaning up"
   ]
  },
  {
   "cell_type": "code",
   "execution_count": 40,
   "metadata": {},
   "outputs": [
    {
     "name": "stdout",
     "output_type": "stream",
     "text": [
      "rm 'bar.txt'\n",
      "rm 'foo.txt'\n",
      "rm 'interactive.txt'\n",
      "rm 'master.txt'\n",
      "[master 791e227] Remove example files\n",
      " 4 files changed, 9 deletions(-)\n",
      " delete mode 100644 bar.txt\n",
      " delete mode 100644 foo.txt\n",
      " delete mode 100644 interactive.txt\n",
      " delete mode 100644 master.txt\n"
     ]
    }
   ],
   "source": [
    "git rm bar.txt foo.txt interactive.txt master.txt\n",
    "git commit -m 'Remove example files'"
   ]
  },
  {
   "cell_type": "code",
   "execution_count": 41,
   "metadata": {
    "slideshow": {
     "slide_type": "subslide"
    }
   },
   "outputs": [
    {
     "name": "stdout",
     "output_type": "stream",
     "text": [
      "[master f623a46] Add README\n",
      " 1 file changed, 2 insertions(+)\n",
      " create mode 100644 README.md\n"
     ]
    }
   ],
   "source": [
    "echo '# Git Going'                   > README.md\n",
    "echo 'An intermediate git tutorial.' >> README.md\n",
    "\n",
    "git add README.md\n",
    "git commit -m 'Add README'"
   ]
  },
  {
   "cell_type": "code",
   "execution_count": 42,
   "metadata": {
    "slideshow": {
     "slide_type": "subslide"
    }
   },
   "outputs": [
    {
     "name": "stdout",
     "output_type": "stream",
     "text": [
      "[master eaeb6f4] Add notebook\n",
      " 21 files changed, 1296 insertions(+)\n",
      " create mode 100644 git-going.ipynb\n",
      " create mode 100644 images/00.0-master.svg\n",
      " create mode 100644 images/00.1-init.svg\n",
      " create mode 100644 images/01-foo.svg\n",
      " create mode 100644 images/02-bar.svg\n",
      " create mode 100644 images/04-commit-on-bar.svg\n",
      " create mode 100644 images/05-commit-on-bar-again.svg\n",
      " create mode 100644 images/06-reset.svg\n",
      " create mode 100644 images/07-commit-foo.svg\n",
      " create mode 100644 images/08-merge-bar-into-foo.svg\n",
      " create mode 100644 images/09-commit-on-master.svg\n",
      " create mode 100644 images/10-rebase-foo-on-master.svg\n",
      " create mode 100644 images/11-catch-up.svg\n",
      " create mode 100644 images/12.0-interactive-setup.svg\n",
      " create mode 100644 images/12.0-interactive.svg\n",
      " create mode 100644 images/12.1-interactive.png\n",
      " create mode 100644 images/12.1-interactive.svg\n",
      " create mode 100644 images/12.2-interactive.png\n",
      " create mode 100644 images/12.3-interactive.svg\n",
      " create mode 100644 images/13.0-autosquash-setup.svg\n",
      " create mode 100644 images/13.1-autosquash.svg\n"
     ]
    }
   ],
   "source": [
    "git add git-going.ipynb images\n",
    "git commit -m 'Add notebook'"
   ]
  },
  {
   "cell_type": "code",
   "execution_count": 43,
   "metadata": {
    "slideshow": {
     "slide_type": "subslide"
    }
   },
   "outputs": [
    {
     "name": "stdout",
     "output_type": "stream",
     "text": [
      "Counting objects: 27, done.\n",
      "Delta compression using up to 4 threads.\n",
      "Compressing objects: 100% (24/24), done.\n",
      "Writing objects: 100% (27/27), 506.64 KiB | 7.68 MiB/s, done.\n",
      "Total 27 (delta 14), reused 0 (delta 0)\n",
      "remote: Resolving deltas: 100% (14/14), done.\u001b[K\n",
      "To github.com:cbarrick/git-going.git\n",
      "   9560b6a..eaeb6f4  master -> master\n",
      "Counting objects: 27, done.\n",
      "Delta compression using up to 4 threads.\n",
      "Compressing objects: 100% (24/24), done.\n",
      "Writing objects: 100% (27/27), 506.64 KiB | 13.69 MiB/s, done.\n",
      "Total 27 (delta 14), reused 0 (delta 0)\n",
      "remote: Resolving deltas: 100% (14/14), done.\u001b[K\n",
      "To github.com:dsp-uga/git-going.git\n",
      "   9560b6a..eaeb6f4  master -> master\n"
     ]
    }
   ],
   "source": [
    "git push origin master\n",
    "git push dsp-uga master"
   ]
  },
  {
   "cell_type": "markdown",
   "metadata": {
    "slideshow": {
     "slide_type": "slide"
    }
   },
   "source": [
    "## Maintenance\n",
    "The diagrams in this notebook are drawn by hand, and thus the commit labels won't match when the notebook is re-rendered. Fortunately they are mostly SVG, e.g. plain text, so they can be updated from the shell:\n",
    "\n",
    "```sh\n",
    "sed -i s/OLDREF/NEWREF/g images/*.svg\n",
    "```"
   ]
  }
 ],
 "metadata": {
  "kernelspec": {
   "display_name": "Bash",
   "language": "bash",
   "name": "bash"
  },
  "language_info": {
   "codemirror_mode": "shell",
   "file_extension": ".sh",
   "mimetype": "text/x-sh",
   "name": "bash"
  }
 },
 "nbformat": 4,
 "nbformat_minor": 2
}
